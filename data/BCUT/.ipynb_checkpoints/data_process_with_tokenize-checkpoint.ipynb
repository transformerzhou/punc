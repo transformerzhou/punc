{
 "cells": [
  {
   "cell_type": "code",
   "execution_count": 31,
   "id": "793d6990",
   "metadata": {},
   "outputs": [],
   "source": [
    "mode = 'test'\n",
    "lines = open('bcut/bcut.{}.txt'.format(mode)).readlines()"
   ]
  },
  {
   "cell_type": "code",
   "execution_count": 32,
   "id": "7b9bd673",
   "metadata": {},
   "outputs": [],
   "source": [
    "def text_process(texts):\n",
    "    lines = []\n",
    "    texts = texts.strip().split('[END]')\n",
    "    line = ''\n",
    "    #断句，最大长度为200\n",
    "    for text in texts:\n",
    "        if not text.strip():\n",
    "            continue\n",
    "        if len(line+text)<200:\n",
    "            line += text+'，'\n",
    "        else:\n",
    "            lines.append(line)\n",
    "            line = text+'，'\n",
    "#             print(lines[-1])\n",
    "    if line != '，':\n",
    "        lines.append(line)\n",
    "#     print(lines, len(lines))\n",
    "    if len(lines) == 1 and not lines[0].endswith(' ，'):\n",
    "        return [lines[0][:-1] + ' ，']\n",
    "    return lines\n",
    "\n",
    "# 写入新文件\n",
    "with open('{}.txt'.format(mode), 'w') as f:\n",
    "    for line in lines:\n",
    "        for cut in text_process(line):\n",
    "            if 10<len(cut)<500:\n",
    "                f.write(cut+'\\n')"
   ]
  },
  {
   "cell_type": "code",
   "execution_count": 75,
   "id": "c3474a9d",
   "metadata": {},
   "outputs": [],
   "source": [
    "import glob\n",
    "from tqdm import tqdm"
   ]
  },
  {
   "cell_type": "code",
   "execution_count": 145,
   "id": "a631ae00",
   "metadata": {},
   "outputs": [
    {
     "name": "stderr",
     "output_type": "stream",
     "text": [
      "100%|██████████| 129/129 [00:01<00:00, 101.73it/s]\n"
     ]
    }
   ],
   "source": [
    "texts = []\n",
    "for file in tqdm(glob.glob('./true/*.srt')):\n",
    "    lines = open(file, 'r', encoding='utf-8-sig').readlines()[2::4]\n",
    "    texts += lines"
   ]
  },
  {
   "cell_type": "code",
   "execution_count": 147,
   "id": "8c92f017",
   "metadata": {},
   "outputs": [],
   "source": [
    "with open('./bcut/bcut.test.txt', 'w') as f:\n",
    "    f.writelines([x for x in texts])"
   ]
  },
  {
   "cell_type": "code",
   "execution_count": null,
   "id": "a4fd8ec7",
   "metadata": {},
   "outputs": [],
   "source": []
  }
 ],
 "metadata": {
  "kernelspec": {
   "display_name": "Python 3 (ipykernel)",
   "language": "python",
   "name": "python3"
  },
  "language_info": {
   "codemirror_mode": {
    "name": "ipython",
    "version": 3
   },
   "file_extension": ".py",
   "mimetype": "text/x-python",
   "name": "python",
   "nbconvert_exporter": "python",
   "pygments_lexer": "ipython3",
   "version": "3.8.9"
  }
 },
 "nbformat": 4,
 "nbformat_minor": 5
}
